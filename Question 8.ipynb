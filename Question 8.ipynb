{
 "cells": [
  {
   "cell_type": "code",
   "execution_count": 1,
   "id": "033fc78d-c67f-44d7-9616-a14f2b900f8b",
   "metadata": {
    "tags": []
   },
   "outputs": [
    {
     "name": "stdin",
     "output_type": "stream",
     "text": [
      "Enter the text:  without, hello, bag, world\n"
     ]
    }
   ],
   "source": [
    "user_input = input('Enter the text: ').split(',')"
   ]
  },
  {
   "cell_type": "code",
   "execution_count": 2,
   "id": "e18457a3-5f56-4a62-9f0c-e4ddb69026bf",
   "metadata": {
    "tags": []
   },
   "outputs": [],
   "source": [
    "user_input.sort()  # This will sort all the characters in the string alphabetically"
   ]
  },
  {
   "cell_type": "code",
   "execution_count": 3,
   "id": "bcb04522-11cf-4d61-a2fc-53c1747c99c3",
   "metadata": {
    "tags": []
   },
   "outputs": [
    {
     "data": {
      "text/plain": [
       "[' bag', ' hello', ' world', 'without']"
      ]
     },
     "execution_count": 3,
     "metadata": {},
     "output_type": "execute_result"
    }
   ],
   "source": [
    "user_input"
   ]
  },
  {
   "cell_type": "code",
   "execution_count": null,
   "id": "e47470d2-d286-4e54-a1b8-c1660bcb6a20",
   "metadata": {},
   "outputs": [],
   "source": []
  }
 ],
 "metadata": {
  "kernelspec": {
   "display_name": "Python 3 (ipykernel)",
   "language": "python",
   "name": "python3"
  },
  "language_info": {
   "codemirror_mode": {
    "name": "ipython",
    "version": 3
   },
   "file_extension": ".py",
   "mimetype": "text/x-python",
   "name": "python",
   "nbconvert_exporter": "python",
   "pygments_lexer": "ipython3",
   "version": "3.11.1"
  }
 },
 "nbformat": 4,
 "nbformat_minor": 5
}
