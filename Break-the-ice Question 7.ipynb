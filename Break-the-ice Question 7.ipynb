{
 "cells": [
  {
   "cell_type": "code",
   "execution_count": 16,
   "id": "ab0d3531",
   "metadata": {},
   "outputs": [
    {
     "name": "stdout",
     "output_type": "stream",
     "text": [
      "Enter row number: 5\n",
      "Enter column number: 3\n"
     ]
    }
   ],
   "source": [
    "row_number = int(input('Enter row number: '))\n",
    "column_number = int(input('Enter column number: '))"
   ]
  },
  {
   "cell_type": "code",
   "execution_count": 17,
   "id": "eb2d224b",
   "metadata": {},
   "outputs": [],
   "source": [
    "ls = []\n",
    "for i in range(0, row_number):\n",
    "    temp = [] # We use a temporary list to store the values output by multiplying row and column number.\n",
    "    for j in range(0, column_number):\n",
    "        x = i*j\n",
    "        temp.append(x)\n",
    "    ls.append(temp)"
   ]
  },
  {
   "cell_type": "code",
   "execution_count": 19,
   "id": "6529d3c4",
   "metadata": {
    "scrolled": true
   },
   "outputs": [
    {
     "name": "stdout",
     "output_type": "stream",
     "text": [
      "[[0, 0, 0], [0, 1, 2], [0, 2, 4], [0, 3, 6], [0, 4, 8]]\n"
     ]
    }
   ],
   "source": [
    "print(ls)"
   ]
  },
  {
   "cell_type": "code",
   "execution_count": null,
   "id": "1f09fc7d",
   "metadata": {},
   "outputs": [],
   "source": []
  }
 ],
 "metadata": {
  "kernelspec": {
   "display_name": "Python 3 (ipykernel)",
   "language": "python",
   "name": "python3"
  },
  "language_info": {
   "codemirror_mode": {
    "name": "ipython",
    "version": 3
   },
   "file_extension": ".py",
   "mimetype": "text/x-python",
   "name": "python",
   "nbconvert_exporter": "python",
   "pygments_lexer": "ipython3",
   "version": "3.11.1"
  }
 },
 "nbformat": 4,
 "nbformat_minor": 5
}
